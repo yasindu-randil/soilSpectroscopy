{
 "cells": [
  {
   "cell_type": "code",
   "execution_count": 2,
   "id": "ac587e9b-d219-4824-aa2e-d3592621923e",
   "metadata": {},
   "outputs": [],
   "source": [
    "import numpy as np\n",
    "import tensorflow as tf\n",
    "from tensorflow import keras\n",
    "from tensorflow.keras import layers\n",
    "#import tensorflow_addons as tfa\n",
    "import pandas as pd\n",
    "from pathlib import Path\n",
    "import os.path\n",
    "from sklearn.model_selection import train_test_split\n",
    "import tensorflow as tf\n",
    "from sklearn.metrics import r2_score\n",
    "import glob\n",
    "import seaborn as sns\n",
    "import matplotlib.pyplot as plt\n",
    "from sklearn import preprocessing\n",
    "from natsort import natsorted, ns"
   ]
  },
  {
   "cell_type": "markdown",
   "id": "00177012-2196-43f2-9dde-778d90e6dcc4",
   "metadata": {},
   "source": [
    "Create DataFrame"
   ]
  },
  {
   "cell_type": "code",
   "execution_count": 3,
   "id": "d5998e9d-f2ba-441a-b430-a6580a83c17b",
   "metadata": {},
   "outputs": [
    {
     "name": "stdout",
     "output_type": "stream",
     "text": [
      " Reading - Done!\n"
     ]
    }
   ],
   "source": [
    "#read the filepaths for each image\n",
    "filepaths = pd.Series(list(glob.iglob('soilSpec/dataset/images/*.png' )), name='Filepath').astype(str)\n",
    "#read the csv values\n",
    "df = pd.read_csv('soilSpec/dataset/VNIR_spec_master_horizon_A&B.csv', low_memory=False)\n",
    "print(\" Reading - Done!\")"
   ]
  },
  {
   "cell_type": "markdown",
   "id": "e6dcd3cd-8ece-41dd-8fe7-fffb6aeac4b6",
   "metadata": {},
   "source": [
    "Pre-Process Data"
   ]
  },
  {
   "cell_type": "code",
   "execution_count": 4,
   "id": "7cb2bb5f-0571-4aa0-8adc-7434cad13343",
   "metadata": {},
   "outputs": [
    {
     "name": "stdout",
     "output_type": "stream",
     "text": [
      "                                Filepath        OC\n",
      "0          soilSpec/dataset/images/0.png  3.965373\n",
      "1          soilSpec/dataset/images/1.png  1.621653\n",
      "2          soilSpec/dataset/images/2.png  0.805019\n",
      "3          soilSpec/dataset/images/3.png  0.459820\n",
      "4          soilSpec/dataset/images/4.png  0.330312\n",
      "...                                  ...       ...\n",
      "14495  soilSpec/dataset/images/14495.png  0.173780\n",
      "14496  soilSpec/dataset/images/14496.png  3.128896\n",
      "14497  soilSpec/dataset/images/14497.png  0.506926\n",
      "14498  soilSpec/dataset/images/14498.png  0.291173\n",
      "14499  soilSpec/dataset/images/14499.png  4.492627\n",
      "\n",
      "[13779 rows x 2 columns]\n",
      "image dataFrame created!\n"
     ]
    },
    {
     "data": {
      "image/png": "[encoded data removed]",
      "text/plain": [
       "<Figure size 432x288 with 1 Axes>"
      ]
     },
     "metadata": {
      "needs_background": "light"
     },
     "output_type": "display_data"
    }
   ],
   "source": [
    "#Sort image paths acceding order\n",
    "filepaths = pd.Series(list(natsorted(filepaths, key=lambda y: y.lower())), name='Filepath').astype(str)\n",
    "#df = df2\n",
    "\n",
    "#df = df.drop(df.iloc[:, 0:34],axis = 1)\n",
    "#df = df.drop(df.iloc[:, 1:8],axis = 1)\n",
    "df = df.drop(df.index[14500:])\n",
    "\n",
    "dataCols =  df['EOC']\n",
    "plt.plot(dataCols)\n",
    "thresh = 5\n",
    "#df2= df[df['EOC']<thresh]\n",
    "\n",
    "       \n",
    "OC = pd.Series(df['EOC'].tolist(), name= 'OC')\n",
    "#Image paths concatenated with relavent OC value\n",
    "images = pd.concat([filepaths, OC], axis=1)\n",
    "\n",
    "images = images.dropna()\n",
    "\n",
    "images= images[images['OC']<thresh]\n",
    "#images = images.drop(images.index[740:])\n",
    "print(images)\n",
    "print(\"image dataFrame created!\")\n",
    "#print(filepaths.sort_values(ascending=True))"
   ]
  },
  {
   "cell_type": "markdown",
   "id": "69f01173-e426-4606-b490-3ba8d0b9b407",
   "metadata": {},
   "source": [
    "Split Dataset"
   ]
  },
  {
   "cell_type": "code",
   "execution_count": 5,
   "id": "54d4ca44-1c9e-43dd-95d3-28a9d887a2ab",
   "metadata": {},
   "outputs": [],
   "source": [
    "#Split train data= 0.5 , test data = 0.3, validation data=0.2\n",
    "train_df, test_df = train_test_split(images, train_size=0.5, shuffle=True, random_state=1)\n",
    "test_df, val_df = train_test_split(test_df, train_size=0.6, shuffle=True, random_state=1)"
   ]
  },
  {
   "cell_type": "markdown",
   "id": "2c7d7734-b531-4023-ad93-4d3ee6136324",
   "metadata": {},
   "source": [
    "Load Images"
   ]
  },
  {
   "cell_type": "code",
   "execution_count": 6,
   "id": "3446cc72-1a3a-413e-be47-1c8cf0a2e9d8",
   "metadata": {},
   "outputs": [
    {
     "name": "stdout",
     "output_type": "stream",
     "text": [
      "Found 5512 validated image filenames.\n",
      "Found 551 validated image filenames.\n",
      "Found 4134 validated image filenames.\n"
     ]
    }
   ],
   "source": [
    "batchSize = 16\n",
    "width = 80\n",
    "height = 60\n",
    "train_generator = tf.keras.preprocessing.image.ImageDataGenerator(\n",
    "    rescale=1./255,\n",
    "    validation_split=0.2\n",
    ")\n",
    "\n",
    "test_generator = tf.keras.preprocessing.image.ImageDataGenerator(\n",
    "    rescale=1./255\n",
    ")\n",
    "\n",
    "train_images = train_generator.flow_from_dataframe(\n",
    "    dataframe=train_df,\n",
    "    x_col='Filepath',\n",
    "    y_col='OC',\n",
    "    target_size=(width, height),\n",
    "    color_mode='rgb',\n",
    "    class_mode='raw',\n",
    "    batch_size=batchSize,\n",
    "    shuffle=True,\n",
    "    seed=42,\n",
    "    subset='training'\n",
    ")\n",
    "\n",
    "val_images = train_generator.flow_from_dataframe(\n",
    "    dataframe=val_df,\n",
    "    x_col='Filepath',\n",
    "    y_col='OC',\n",
    "    target_size=(width, height),\n",
    "    color_mode='rgb',\n",
    "    class_mode='raw',\n",
    "    batch_size=batchSize,\n",
    "    shuffle=True,\n",
    "    seed=42,\n",
    "    subset='validation'\n",
    ")\n",
    "\n",
    "test_images = test_generator.flow_from_dataframe(\n",
    "    dataframe=test_df,\n",
    "    x_col='Filepath',\n",
    "    y_col='OC',\n",
    "    target_size=(width, height),\n",
    "    color_mode='rgb',\n",
    "    class_mode='raw',\n",
    "    batch_size=batchSize,\n",
    "    shuffle=False\n",
    ")"
   ]
  },
  {
   "cell_type": "markdown",
   "id": "ab9ed366-cc4a-49c3-867b-47a144f9556e",
   "metadata": {},
   "source": [
    "MLP Function"
   ]
  },
  {
   "cell_type": "code",
   "execution_count": 7,
   "id": "a01d5265-19a3-4e40-9106-0ff256817ca9",
   "metadata": {},
   "outputs": [],
   "source": [
    "#MLP with Two Dense Layers\n",
    "# Multilayer Perceptron with GeLU ( Gaussian Linear Units ) activation\n",
    "def mlp( x , hidden_dims ):\n",
    "    y = tf.keras.layers.Dense( hidden_dims )( x )\n",
    "    y = tf.nn.gelu( y )\n",
    "    y = tf.keras.layers.Dense( x.shape[ -1 ] )( y )\n",
    "    y = tf.keras.layers.Dropout( 0.4 )( y )\n",
    "    return y"
   ]
  },
  {
   "cell_type": "markdown",
   "id": "c9dd769a-4c7a-4832-b476-07c60b0e7790",
   "metadata": {},
   "source": [
    "Mixer Layer"
   ]
  },
  {
   "cell_type": "code",
   "execution_count": 8,
   "id": "fc4207e4-6e54-4ef9-be45-ebc8a3eb731d",
   "metadata": {},
   "outputs": [],
   "source": [
    "#Mixer layer consisting of token mixing MLPs and channel mixing MLPs\n",
    "# input shape -> ( batch_size , channels , num_patches )\n",
    "# output shape -> ( batch_size , channels , num_patches )\n",
    "def mixer( x , token_mixing_mlp_dims , channel_mixing_mlp_dims ):\n",
    "    # inputs x of are of shape ( batch_size , num_patches , channels )\n",
    "    # Note: \"channels\" is used instead of \"embedding_dims\"\n",
    "    \n",
    "    # Add token mixing MLPs\n",
    "    token_mixing_out = token_mixing( x , token_mixing_mlp_dims )\n",
    "    # Shape of token_mixing_out -> ( batch_size , channels , num_patches )\n",
    "\n",
    "    token_mixing_out = tf.keras.layers.Permute( dims=[ 2 , 1 ] )( token_mixing_out )\n",
    "    # Shape of transposition -> ( batch_size , num_patches , channels )\n",
    "    \n",
    "    #  Add skip connection\n",
    "    token_mixing_out = tf.keras.layers.Add()( [ x , token_mixing_out ] )\n",
    "\n",
    "    # Add channel mixing MLPs\n",
    "    channel_mixing_out = channel_mixing( token_mixing_out , channel_mixing_mlp_dims )\n",
    "    # Shape of channel_mixing_out -> ( batch_size , num_patches , channels )\n",
    "    \n",
    "    # Add skip connection\n",
    "    channel_mixing_out = tf.keras.layers.Add()( [ channel_mixing_out , token_mixing_out ] )\n",
    "    # Shape of channel_mixing_out -> ( batch_size , num_patches , channels )\n",
    "\n",
    "    return channel_mixing_out"
   ]
  },
  {
   "cell_type": "markdown",
   "id": "a14a0ea3-7700-4d1e-a18a-05a69a941186",
   "metadata": {},
   "source": [
    "Token Mixing"
   ]
  },
  {
   "cell_type": "code",
   "execution_count": 9,
   "id": "536e32a7-7ab0-43d5-b424-3e81f8d23e30",
   "metadata": {},
   "outputs": [],
   "source": [
    "# Token Mixing MLPs : Allow communication within patches.\n",
    "def token_mixing( x , token_mixing_mlp_dims ):\n",
    "    # x is a tensor of shape ( batch_size , num_patches , channels )\n",
    "    x = tf.keras.layers.LayerNormalization( epsilon=1e-6 )( x )\n",
    "    x = tf.keras.layers.Permute( dims=[ 2 , 1 ] )( x ) \n",
    "    # After transposition, shape of x -> ( batch_size , channels , num_patches )\n",
    "    x = mlp( x , token_mixing_mlp_dims )\n",
    "    return x"
   ]
  },
  {
   "cell_type": "markdown",
   "id": "b27e43b7-416d-41fe-ba65-33810d2eca19",
   "metadata": {},
   "source": [
    "Channel Mixing"
   ]
  },
  {
   "cell_type": "code",
   "execution_count": 10,
   "id": "8faf8ac0-2f7c-4f9e-87eb-60569dc47e2f",
   "metadata": {},
   "outputs": [],
   "source": [
    "# Channel Mixing MLPs : Allow communication within channels ( features of embeddings )\n",
    "def channel_mixing( x , channel_mixing_mlp_dims ):\n",
    "    # x is a tensor of shape ( batch_size , num_patches , channels )\n",
    "    x = tf.keras.layers.LayerNormalization( epsilon=1e-6 )( x )\n",
    "    x = mlp( x , channel_mixing_mlp_dims )\n",
    "    return x"
   ]
  },
  {
   "cell_type": "markdown",
   "id": "9a001ec8-a18b-44f2-840f-89b7d09bde3f",
   "metadata": {},
   "source": [
    "Model"
   ]
  },
  {
   "cell_type": "code",
   "execution_count": 19,
   "id": "0b0ec9d4-eb0d-488b-ba26-5279636e7d24",
   "metadata": {},
   "outputs": [
    {
     "name": "stdout",
     "output_type": "stream",
     "text": [
      "Epoch 1/50\n",
      "345/345 [==============================] - 7s 15ms/step - loss: 1.6588 - val_loss: 1.0784\n",
      "Epoch 2/50\n",
      "345/345 [==============================] - 5s 13ms/step - loss: 1.2194 - val_loss: 1.0507\n",
      "Epoch 3/50\n",
      "345/345 [==============================] - 5s 13ms/step - loss: 1.1885 - val_loss: 1.0563\n",
      "Epoch 4/50\n",
      "345/345 [==============================] - 5s 13ms/step - loss: 1.1247 - val_loss: 1.0730\n",
      "Epoch 5/50\n",
      "345/345 [==============================] - 5s 13ms/step - loss: 1.0143 - val_loss: 0.6539\n",
      "Epoch 6/50\n",
      "345/345 [==============================] - 5s 13ms/step - loss: 0.8024 - val_loss: 0.6120\n",
      "Epoch 7/50\n",
      "345/345 [==============================] - 5s 13ms/step - loss: 0.7454 - val_loss: 0.5079\n",
      "Epoch 8/50\n",
      "345/345 [==============================] - 5s 13ms/step - loss: 0.7012 - val_loss: 0.5534\n",
      "Epoch 9/50\n",
      "345/345 [==============================] - 5s 13ms/step - loss: 0.6820 - val_loss: 0.5241\n",
      "Epoch 10/50\n",
      "345/345 [==============================] - 4s 13ms/step - loss: 0.6588 - val_loss: 0.5301\n",
      "Epoch 11/50\n",
      "345/345 [==============================] - 5s 13ms/step - loss: 0.6442 - val_loss: 0.4704\n",
      "Epoch 12/50\n",
      "345/345 [==============================] - 5s 13ms/step - loss: 0.6379 - val_loss: 0.4505\n",
      "Epoch 13/50\n",
      "345/345 [==============================] - 5s 13ms/step - loss: 0.6413 - val_loss: 0.4641\n",
      "Epoch 14/50\n",
      "345/345 [==============================] - 5s 13ms/step - loss: 0.6028 - val_loss: 0.4420\n",
      "Epoch 15/50\n",
      "345/345 [==============================] - 5s 13ms/step - loss: 0.5873 - val_loss: 0.4333\n",
      "Epoch 16/50\n",
      "345/345 [==============================] - 5s 13ms/step - loss: 0.5813 - val_loss: 0.4195\n",
      "Epoch 17/50\n",
      "345/345 [==============================] - 5s 13ms/step - loss: 0.5511 - val_loss: 0.3922\n",
      "Epoch 18/50\n",
      "345/345 [==============================] - 4s 13ms/step - loss: 0.5227 - val_loss: 0.4393\n",
      "Epoch 19/50\n",
      "345/345 [==============================] - 5s 13ms/step - loss: 0.5139 - val_loss: 0.4731\n",
      "Epoch 20/50\n",
      "345/345 [==============================] - 5s 13ms/step - loss: 0.5043 - val_loss: 0.5153\n",
      "Epoch 21/50\n",
      "345/345 [==============================] - 5s 13ms/step - loss: 0.4855 - val_loss: 0.3733\n",
      "Epoch 22/50\n",
      "345/345 [==============================] - 5s 13ms/step - loss: 0.4717 - val_loss: 0.4253\n",
      "Epoch 23/50\n",
      "345/345 [==============================] - 5s 13ms/step - loss: 0.4744 - val_loss: 0.3884\n",
      "Epoch 24/50\n",
      "345/345 [==============================] - 5s 13ms/step - loss: 0.4715 - val_loss: 0.3789\n",
      "Epoch 25/50\n",
      "345/345 [==============================] - 5s 13ms/step - loss: 0.4583 - val_loss: 0.3451\n",
      "Epoch 26/50\n",
      "345/345 [==============================] - 5s 13ms/step - loss: 0.4533 - val_loss: 0.3623\n",
      "Epoch 27/50\n",
      "345/345 [==============================] - 5s 13ms/step - loss: 0.4483 - val_loss: 0.3346\n",
      "Epoch 28/50\n",
      "345/345 [==============================] - 5s 13ms/step - loss: 0.4347 - val_loss: 0.3338\n",
      "Epoch 29/50\n",
      "345/345 [==============================] - 5s 13ms/step - loss: 0.4378 - val_loss: 0.3825\n",
      "Epoch 30/50\n",
      "345/345 [==============================] - 4s 13ms/step - loss: 0.4239 - val_loss: 0.3694\n",
      "Epoch 31/50\n",
      "345/345 [==============================] - 5s 13ms/step - loss: 0.4221 - val_loss: 0.3762\n",
      "Epoch 32/50\n",
      "345/345 [==============================] - 5s 13ms/step - loss: 0.4288 - val_loss: 0.3663\n",
      "Epoch 33/50\n",
      "345/345 [==============================] - 4s 13ms/step - loss: 0.4081 - val_loss: 0.3161\n",
      "Epoch 34/50\n",
      "345/345 [==============================] - 4s 13ms/step - loss: 0.3983 - val_loss: 0.3453\n",
      "Epoch 35/50\n",
      "345/345 [==============================] - 4s 13ms/step - loss: 0.4132 - val_loss: 0.3400\n",
      "Epoch 36/50\n",
      "345/345 [==============================] - 4s 13ms/step - loss: 0.4040 - val_loss: 0.3483\n",
      "Epoch 37/50\n",
      "345/345 [==============================] - 4s 13ms/step - loss: 0.3889 - val_loss: 0.3414\n",
      "Epoch 38/50\n",
      "345/345 [==============================] - 4s 13ms/step - loss: 0.3855 - val_loss: 0.3429\n",
      "Epoch 39/50\n",
      "345/345 [==============================] - 4s 13ms/step - loss: 0.3842 - val_loss: 0.3555\n",
      "Epoch 40/50\n",
      "345/345 [==============================] - 5s 13ms/step - loss: 0.3791 - val_loss: 0.3394\n",
      "Epoch 41/50\n",
      "345/345 [==============================] - 5s 13ms/step - loss: 0.3735 - val_loss: 0.3611\n",
      "Epoch 42/50\n",
      "345/345 [==============================] - 5s 13ms/step - loss: 0.3700 - val_loss: 0.3299\n",
      "Epoch 43/50\n",
      "345/345 [==============================] - 5s 13ms/step - loss: 0.3658 - val_loss: 0.3676\n",
      "Epoch 44/50\n",
      "345/345 [==============================] - 5s 13ms/step - loss: 0.3665 - val_loss: 0.3594\n",
      "Epoch 45/50\n",
      "345/345 [==============================] - 5s 13ms/step - loss: 0.3593 - val_loss: 0.3187\n",
      "Epoch 46/50\n",
      "345/345 [==============================] - 5s 13ms/step - loss: 0.3545 - val_loss: 0.3328\n",
      "Epoch 47/50\n",
      "345/345 [==============================] - 5s 13ms/step - loss: 0.3422 - val_loss: 0.3505\n",
      "Epoch 48/50\n",
      "345/345 [==============================] - 5s 13ms/step - loss: 0.3410 - val_loss: 0.3777\n",
      "Epoch 49/50\n",
      "345/345 [==============================] - 5s 13ms/step - loss: 0.3318 - val_loss: 0.3766\n",
      "Epoch 50/50\n",
      "345/345 [==============================] - 5s 13ms/step - loss: 0.3330 - val_loss: 0.3596\n"
     ]
    }
   ],
   "source": [
    "hidden_dims = 32\n",
    "token_mixing_mlp_dims = 64\n",
    "channel_mixing_mlp_dims = 64\n",
    "patch_size = 9\n",
    "num_classes = 10\n",
    "num_mixer_layers = 4\n",
    "input_image_shape = ( 80 , 60 , 3 )\n",
    "\n",
    "inputs = tf.keras.layers.Input( shape=input_image_shape )\n",
    "\n",
    "# Conv2D to extract patches\n",
    "patches = tf.keras.layers.Conv2D( hidden_dims , kernel_size=patch_size , strides=patch_size )( inputs )\n",
    "# Resizing the patches\n",
    "patches_reshape = tf.keras.layers.Reshape( ( patches.shape[ 1 ] * patches.shape[ 2 ] , patches.shape[ 3 ] ) )( patches )\n",
    "\n",
    "x = patches_reshape\n",
    "for _ in range( num_mixer_layers ):\n",
    "    x = mixer( x , token_mixing_mlp_dims , channel_mixing_mlp_dims )\n",
    "\n",
    "# Classifier head\n",
    "x = tf.keras.layers.LayerNormalization( epsilon=1e-6 )( x )\n",
    "# = tf.keras.layers.GlobalAveragePooling1D()( x )\n",
    "x = tf.keras.layers.Flatten()(x)\n",
    "outputs = tf.keras.layers.Dense( 1, activation='linear')( x )\n",
    "# outputs = tf.keras.layers.Dense( 1)( x )\n",
    "\n",
    "model = tf.keras.models.Model( inputs , outputs )\n",
    "optimizer = tf.keras.optimizers.Adam(lr=0.001)\n",
    "# The loss function is 'mse', since it is regression\n",
    "model.compile(\n",
    "    optimizer=optimizer,\n",
    "    loss='mse'\n",
    ")\n",
    "\n",
    "\n",
    "\n",
    "\n",
    "from keras import backend as K\n",
    "#K.set_value(model.optimizer.learning_rate, 0.001)\n",
    "\n",
    "history = model.fit(\n",
    "    train_images,\n",
    "    validation_data=val_images,\n",
    "    epochs=50\n",
    "    # callbacks=[\n",
    "    #     tf.keras.callbacks.EarlyStopping(\n",
    "    #         monitor='val_loss',\n",
    "    #         patience=5,\n",
    "    #         restore_best_weights=True\n",
    "    #     )\n",
    "    # ]\n",
    ")"
   ]
  },
  {
   "cell_type": "markdown",
   "id": "a5ddabad-8ab3-4530-bf89-d3fb6af1681f",
   "metadata": {},
   "source": [
    "Results"
   ]
  },
  {
   "cell_type": "code",
   "execution_count": 20,
   "id": "5f7796ad-6fc1-43c0-9617-1e237272cd91",
   "metadata": {},
   "outputs": [
    {
     "name": "stdout",
     "output_type": "stream",
     "text": [
      "     Test RMSE: 0.61920\n",
      "Test R^2 Score: 0.65517\n",
      "4.5515037\n"
     ]
    },
    {
     "data": {
      "image/png": "[encoded data removed]",
      "text/plain": [
       "<Figure size 432x288 with 1 Axes>"
      ]
     },
     "metadata": {
      "needs_background": "light"
     },
     "output_type": "display_data"
    },
    {
     "name": "stdout",
     "output_type": "stream",
     "text": [
      "       true_OC  predicted_OC\n",
      "0     1.115503      1.284119\n",
      "1     2.380554      1.404996\n",
      "2     0.161774      0.591156\n",
      "3     0.180321      0.327779\n",
      "4     1.342232      1.326870\n",
      "...        ...           ...\n",
      "4129  0.495813      0.525341\n",
      "4130  0.145479      0.339715\n",
      "4131  0.139476      0.447966\n",
      "4132  0.530832      0.626137\n",
      "4133  0.157875      0.346268\n",
      "\n",
      "[4134 rows x 2 columns]\n"
     ]
    }
   ],
   "source": [
    "predicted_OC = np.squeeze(model.predict(test_images))\n",
    "\n",
    "true_OC = test_images.labels\n",
    "df10 = pd.DataFrame({'true_OC' : true_OC, 'predicted_OC' : predicted_OC})   \n",
    "#df10.to_csv('/home/yasindu/Desktop/Datasets/predictions.csv', index=False, encoding='utf-8')\n",
    "# SQroot of Mean squared error\n",
    "rmse = np.sqrt(model.evaluate(test_images, verbose=0))\n",
    "print(\"     Test RMSE: {:.5f}\".format(rmse))\n",
    "\n",
    "\n",
    "r2 = r2_score(true_OC, predicted_OC)\n",
    "print(\"Test R^2 Score: {:.5f}\".format(r2))\n",
    "#plt.figure()\n",
    "#sns.scatterplot(x=true_OC, y=predicted_OC, alpha=0.6)\n",
    "#sns.lineplot(true_OC, predicted_OC)\n",
    "#plt.xlabel('Actual OC', fontsize=14)\n",
    "#plt.ylabel('Prediced  OC', fontsize=14)\n",
    "#plt.title(f'Actual vs Predicted  OC (test set) T = {thresh}', fontsize=17)\n",
    "#plt.show()\n",
    "\n",
    "print(predicted_OC.max()-predicted_OC.min())\n",
    "#sns.regplot(x=true_OC, y=predicted_OC)\n",
    "\n",
    "true_OC_max = true_OC.max()\n",
    "true_OC_min = true_OC.min()\n",
    "\n",
    "ax = sns.scatterplot(x=predicted_OC, y=true_OC)\n",
    "ax.set(ylim=(true_OC_min, true_OC_max))\n",
    "ax.set(xlim=(true_OC_min, true_OC_max))\n",
    "ax.set_xlabel(\"Predicted value of OC\")\n",
    "ax.set_ylabel(\"Observed value of OC\")\n",
    "\n",
    "X_ref = Y_ref = np.linspace(true_OC_min, true_OC_max, 100)\n",
    "plt.plot(X_ref, Y_ref, color='red', linewidth=1)\n",
    "plt.show()\n",
    "#plt.savefig(\"soilSpec/dataset/plotuno75x40.png\")\n",
    "plt.close()\n",
    "print(df10)"
   ]
  },
  {
   "cell_type": "markdown",
   "id": "67d0226d-5250-4c21-93ad-a071b44d90f4",
   "metadata": {},
   "source": [
    "Loss"
   ]
  },
  {
   "cell_type": "code",
   "execution_count": 21,
   "id": "73a7b97a-a444-4e36-8f01-a6def1d077bd",
   "metadata": {},
   "outputs": [
    {
     "data": {
      "text/plain": [
       "[<matplotlib.lines.Line2D at 0x14618d986b50>]"
      ]
     },
     "execution_count": 21,
     "metadata": {},
     "output_type": "execute_result"
    },
    {
     "data": {
      "image/png": "[encoded data removed]",
      "text/plain": [
       "<Figure size 432x288 with 1 Axes>"
      ]
     },
     "metadata": {
      "needs_background": "light"
     },
     "output_type": "display_data"
    }
   ],
   "source": [
    "his = history.history\n",
    "plt.figure()\n",
    "plt.plot(his['loss'])\n",
    "plt.plot(his['val_loss'])\n",
    "#plt.savefig(\"soilSpec/dataset/lossuno75x40.png\")\n",
    "#plt.close()"
   ]
  },
  {
   "cell_type": "code",
   "execution_count": null,
   "id": "953f4c5e-ca6f-4b1d-8a8f-263334ded411",
   "metadata": {},
   "outputs": [],
   "source": []
  }
 ],
 "metadata": {
  "kernelspec": {
   "display_name": "TensorFlow 2.7 (py39)",
   "language": "python",
   "name": "tensorflow-2.7-py39"
  },
  "language_info": {
   "codemirror_mode": {
    "name": "ipython",
    "version": 3
   },
   "file_extension": ".py",
   "mimetype": "text/x-python",
   "name": "python",
   "nbconvert_exporter": "python",
   "pygments_lexer": "ipython3",
   "version": "3.9.10"
  }
 },
 "nbformat": 4,
 "nbformat_minor": 5
}
