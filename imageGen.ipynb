{
 "cells": [
  {
   "cell_type": "code",
   "execution_count": 1,
   "id": "ddd9e5de-2383-4a5f-9d94-45751855de2f",
   "metadata": {},
   "outputs": [],
   "source": [
    "import numpy as np\n",
    "import pandas as pd\n",
    "import matplotlib.pyplot as plt\n",
    "#import seaborn as sns\n",
    "#sns.set()  #if you want to use seaborn themes with matplotlib functions\n",
    "import warnings\n",
    "warnings.filterwarnings('ignore')\n",
    "\n",
    "from sklearn.svm import SVR\n",
    "import scipy\n",
    "import scipy.signal\n",
    "import itertools\n",
    "from itertools import chain\n",
    "import math\n",
    "from math import sqrt;\n",
    "from sklearn.metrics import mean_squared_error, r2_score\n",
    "from PIL import Image \n",
    "import PIL \n",
    "\n",
    "from scipy import signal"
   ]
  },
  {
   "cell_type": "markdown",
   "id": "d93c537d-ff87-498a-9272-e6c8622fc260",
   "metadata": {},
   "source": [
    "Read File"
   ]
  },
  {
   "cell_type": "code",
   "execution_count": 2,
   "id": "2cc42b5e-3b9d-4150-856f-784a8698cfc6",
   "metadata": {},
   "outputs": [
    {
     "name": "stdout",
     "output_type": "stream",
     "text": [
      " Reading from CSV - Done!\n"
     ]
    }
   ],
   "source": [
    "df = pd.read_csv('soilSpec/dataset/VNIR_spec.csv', low_memory=False)\n",
    "\n",
    "print(\" Reading from CSV - Done!\")"
   ]
  },
  {
   "cell_type": "markdown",
   "id": "6b164ec0-8952-4d67-a15a-010a79261e9f",
   "metadata": {},
   "source": [
    "Data Preprocess"
   ]
  },
  {
   "cell_type": "code",
   "execution_count": 3,
   "id": "c7b1a272-2110-47ee-a1a9-160401ceadde",
   "metadata": {},
   "outputs": [
    {
     "name": "stdout",
     "output_type": "stream",
     "text": [
      "Index(['350.0', '351.0', '352.0', '353.0', '354.0', '355.0', '356.0', '357.0',\n",
      "       '358.0', '359.0',\n",
      "       ...\n",
      "       '2491.0', '2492.0', '2493.0', '2494.0', '2495.0', '2496.0', '2497.0',\n",
      "       '2498.0', '2499.0', '2500.0'],\n",
      "      dtype='object', length=2151)\n",
      "Data Pre-processing - Done!\n"
     ]
    }
   ],
   "source": [
    "df = df.drop(df.iloc[:, 0:34],axis = 1)\n",
    "df = df.drop(df.iloc[:, 0:8],axis = 1)\n",
    "print(df.columns)\n",
    "print(\"Data Pre-processing - Done!\")"
   ]
  },
  {
   "cell_type": "code",
   "execution_count": 4,
   "id": "1cd6d214-4c53-4fdc-9997-62d701d07d9b",
   "metadata": {},
   "outputs": [
    {
     "name": "stdout",
     "output_type": "stream",
     "text": [
      "Null values: 0\n",
      "NaN values: 0\n"
     ]
    }
   ],
   "source": [
    "print(\"Null values: \"+str(df.isnull().sum().sum()))\n",
    "print(\"NaN values: \"+str(df.isna().sum().sum()))"
   ]
  },
  {
   "cell_type": "markdown",
   "id": "8ae6f808-29ba-46e9-8e61-256f2ef517ef",
   "metadata": {},
   "source": [
    "Image Generation"
   ]
  },
  {
   "cell_type": "code",
   "execution_count": null,
   "id": "841d2004-9752-4b26-805b-5df62796368e",
   "metadata": {},
   "outputs": [
    {
     "name": "stdout",
     "output_type": "stream",
     "text": [
      "Number of images saved: 500\n",
      "Number of images saved: 1000\n",
      "Number of images saved: 1500\n",
      "Number of images saved: 2000\n",
      "Number of images saved: 2500\n",
      "Number of images saved: 3000\n",
      "Number of images saved: 3500\n",
      "Number of images saved: 4000\n",
      "Number of images saved: 4500\n",
      "Number of images saved: 5000\n",
      "Number of images saved: 5500\n",
      "Number of images saved: 6000\n",
      "Number of images saved: 6500\n",
      "Number of images saved: 7000\n",
      "Number of images saved: 7500\n",
      "Number of images saved: 8000\n",
      "Number of images saved: 8500\n",
      "Number of images saved: 9000\n",
      "Number of images saved: 9500\n",
      "Number of images saved: 10000\n",
      "Number of images saved: 10500\n",
      "Number of images saved: 11000\n",
      "Number of images saved: 11500\n",
      "Number of images saved: 12000\n",
      "Number of images saved: 12500\n",
      "Number of images saved: 13000\n",
      "Number of images saved: 13500\n",
      "Number of images saved: 14000\n",
      "Number of images saved: 14500\n",
      "Number of images saved: 15000\n",
      "Number of images saved: 15500\n",
      "Number of images saved: 16000\n",
      "Number of images saved: 16500\n",
      "Number of images saved: 17000\n",
      "Number of images saved: 17500\n",
      "Number of images saved: 18000\n",
      "Number of images saved: 18500\n",
      "Number of images saved: 19000\n",
      "Number of images saved: 19500\n"
     ]
    }
   ],
   "source": [
    "#create a list with spectral values without OC\n",
    "dataList = df.values.tolist()\n",
    "data_list = []\n",
    "flatten_list = []\n",
    "count = 1\n",
    "for i in range(0, 20000):\n",
    "    dataArray = np.array(dataList[i])\n",
    "    nperSeg = 100\n",
    "    window = scipy.signal.get_window('hann', nperSeg)\n",
    "    freqs, times, spec = scipy.signal.spectrogram(dataArray,fs=1,window=window,nperseg=nperSeg,noverlap=50)\n",
    "    log_specgram = np.log(spec)\n",
    "    plt.grid(False)\n",
    "\n",
    "    plt.pcolormesh(times, freqs, log_specgram)\n",
    "    #plt.savefig(\"soilSpec/dataset/uno300x200/\"+str(i)+\".png\", dpi = 50)\n",
    "    plt.savefig(\"soilSpec/dataset/unooriginal/\"+str(i)+\".png\")\n",
    "    plt.close()\n",
    "    \n",
    "    if( i == (count*500)):\n",
    "        print( \"Number of images saved: \"+str(i))\n",
    "        count = count+1\n",
    "\n",
    "print(\"done\")"
   ]
  },
  {
   "cell_type": "code",
   "execution_count": null,
   "id": "4ecf6b61-50b4-4b71-95f5-34bb3845bd9b",
   "metadata": {},
   "outputs": [],
   "source": [
    "from PIL import Image\n",
    "\n",
    "im = Image.open('soilSpec/dataset/uno75x50/1.png')\n",
    "\n",
    "print(im.size)"
   ]
  },
  {
   "cell_type": "code",
   "execution_count": null,
   "id": "ee89a4a2-d357-476f-b3cb-c0699470a1c7",
   "metadata": {},
   "outputs": [],
   "source": []
  }
 ],
 "metadata": {
  "kernelspec": {
   "display_name": "Python 3 (ipykernel)",
   "language": "python",
   "name": "python3"
  },
  "language_info": {
   "codemirror_mode": {
    "name": "ipython",
    "version": 3
   },
   "file_extension": ".py",
   "mimetype": "text/x-python",
   "name": "python",
   "nbconvert_exporter": "python",
   "pygments_lexer": "ipython3",
   "version": "3.8.13"
  }
 },
 "nbformat": 4,
 "nbformat_minor": 5
}
